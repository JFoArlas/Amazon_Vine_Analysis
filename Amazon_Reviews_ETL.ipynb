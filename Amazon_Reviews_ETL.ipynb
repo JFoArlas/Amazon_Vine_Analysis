{
  "nbformat": 4,
  "nbformat_minor": 0,
  "metadata": {
    "colab": {
      "name": "Amazon_Reviews_ETL.ipynb",
      "provenance": []
    },
    "kernelspec": {
      "name": "python3",
      "display_name": "Python 3"
    },
    "nteract": {
      "version": "0.12.3"
    },
    "language_info": {
      "name": "python"
    }
  },
  "cells": [
    {
      "cell_type": "code",
      "metadata": {
        "id": "V58rxea0HqSa",
        "colab": {
          "base_uri": "https://localhost:8080/"
        },
        "outputId": "265e7eee-785b-4fe1-8299-d44334cf5296"
      },
      "source": [
        "import os\n",
        "# Find the latest version of spark 3.0 from http://www.apache.org/dist/spark/ and enter as the spark version\n",
        "# For example:\n",
        "# spark_version = 'spark-3.0.3'\n",
        "spark_version = 'spark-3.0.3'\n",
        "os.environ['SPARK_VERSION']=spark_version\n",
        "\n",
        "# Install Spark and Java\n",
        "!apt-get update\n",
        "!apt-get install openjdk-11-jdk-headless -qq > /dev/null\n",
        "!wget -q http://www.apache.org/dist/spark/$SPARK_VERSION/$SPARK_VERSION-bin-hadoop2.7.tgz\n",
        "!tar xf $SPARK_VERSION-bin-hadoop2.7.tgz\n",
        "!pip install -q findspark\n",
        "\n",
        "# Set Environment Variables\n",
        "import os\n",
        "os.environ[\"JAVA_HOME\"] = \"/usr/lib/jvm/java-11-openjdk-amd64\"\n",
        "os.environ[\"SPARK_HOME\"] = f\"/content/{spark_version}-bin-hadoop2.7\"\n",
        "\n",
        "# Start a SparkSession\n",
        "import findspark\n",
        "findspark.init()"
      ],
      "execution_count": 1,
      "outputs": [
        {
          "output_type": "stream",
          "name": "stdout",
          "text": [
            "Get:1 https://cloud.r-project.org/bin/linux/ubuntu bionic-cran40/ InRelease [3,626 B]\n",
            "Ign:2 https://developer.download.nvidia.com/compute/cuda/repos/ubuntu1804/x86_64  InRelease\n",
            "Ign:3 https://developer.download.nvidia.com/compute/machine-learning/repos/ubuntu1804/x86_64  InRelease\n",
            "Get:4 https://developer.download.nvidia.com/compute/cuda/repos/ubuntu1804/x86_64  Release [696 B]\n",
            "Hit:5 https://developer.download.nvidia.com/compute/machine-learning/repos/ubuntu1804/x86_64  Release\n",
            "Get:6 https://developer.download.nvidia.com/compute/cuda/repos/ubuntu1804/x86_64  Release.gpg [836 B]\n",
            "Hit:7 http://archive.ubuntu.com/ubuntu bionic InRelease\n",
            "Get:8 http://ppa.launchpad.net/c2d4u.team/c2d4u4.0+/ubuntu bionic InRelease [15.9 kB]\n",
            "Get:9 http://security.ubuntu.com/ubuntu bionic-security InRelease [88.7 kB]\n",
            "Get:10 http://archive.ubuntu.com/ubuntu bionic-updates InRelease [88.7 kB]\n",
            "Get:12 https://developer.download.nvidia.com/compute/cuda/repos/ubuntu1804/x86_64  Packages [867 kB]\n",
            "Hit:13 http://ppa.launchpad.net/cran/libgit2/ubuntu bionic InRelease\n",
            "Get:14 http://archive.ubuntu.com/ubuntu bionic-backports InRelease [74.6 kB]\n",
            "Get:15 http://ppa.launchpad.net/deadsnakes/ppa/ubuntu bionic InRelease [15.9 kB]\n",
            "Get:16 http://security.ubuntu.com/ubuntu bionic-security/restricted amd64 Packages [725 kB]\n",
            "Hit:17 http://ppa.launchpad.net/graphics-drivers/ppa/ubuntu bionic InRelease\n",
            "Get:18 http://ppa.launchpad.net/c2d4u.team/c2d4u4.0+/ubuntu bionic/main Sources [1,822 kB]\n",
            "Get:19 http://archive.ubuntu.com/ubuntu bionic-updates/universe amd64 Packages [2,238 kB]\n",
            "Get:20 http://security.ubuntu.com/ubuntu bionic-security/universe amd64 Packages [1,459 kB]\n",
            "Get:21 http://security.ubuntu.com/ubuntu bionic-security/main amd64 Packages [2,498 kB]\n",
            "Get:22 http://archive.ubuntu.com/ubuntu bionic-updates/main amd64 Packages [2,935 kB]\n",
            "Get:23 http://archive.ubuntu.com/ubuntu bionic-updates/restricted amd64 Packages [758 kB]\n",
            "Get:24 http://ppa.launchpad.net/c2d4u.team/c2d4u4.0+/ubuntu bionic/main amd64 Packages [934 kB]\n",
            "Get:25 http://ppa.launchpad.net/deadsnakes/ppa/ubuntu bionic/main amd64 Packages [45.3 kB]\n",
            "Fetched 14.6 MB in 8s (1,914 kB/s)\n",
            "Reading package lists... Done\n"
          ]
        }
      ]
    },
    {
      "cell_type": "code",
      "metadata": {
        "id": "_xKwTpATHqSe",
        "colab": {
          "base_uri": "https://localhost:8080/"
        },
        "outputId": "1cea3bc1-3667-4400-f5d2-79272210a3a0"
      },
      "source": [
        "# Download the Postgres driver that will allow Spark to interact with Postgres.\n",
        "!wget https://jdbc.postgresql.org/download/postgresql-42.2.16.jar"
      ],
      "execution_count": 2,
      "outputs": [
        {
          "output_type": "stream",
          "name": "stdout",
          "text": [
            "--2022-01-16 22:32:52--  https://jdbc.postgresql.org/download/postgresql-42.2.16.jar\n",
            "Resolving jdbc.postgresql.org (jdbc.postgresql.org)... 72.32.157.228, 2001:4800:3e1:1::228\n",
            "Connecting to jdbc.postgresql.org (jdbc.postgresql.org)|72.32.157.228|:443... connected.\n",
            "HTTP request sent, awaiting response... 200 OK\n",
            "Length: 1002883 (979K) [application/java-archive]\n",
            "Saving to: ‘postgresql-42.2.16.jar’\n",
            "\n",
            "postgresql-42.2.16. 100%[===================>] 979.38K  1.22MB/s    in 0.8s    \n",
            "\n",
            "2022-01-16 22:32:54 (1.22 MB/s) - ‘postgresql-42.2.16.jar’ saved [1002883/1002883]\n",
            "\n"
          ]
        }
      ]
    },
    {
      "cell_type": "code",
      "metadata": {
        "id": "MMqDAjVS0KN9"
      },
      "source": [
        "from pyspark.sql import SparkSession\n",
        "spark = SparkSession.builder.appName(\"M16-Amazon-Challenge\").config(\"spark.driver.extraClassPath\",\"/content/postgresql-42.2.16.jar\").getOrCreate()"
      ],
      "execution_count": 3,
      "outputs": []
    },
    {
      "cell_type": "markdown",
      "metadata": {
        "id": "cyBsySGuY-9V"
      },
      "source": [
        "### Load Amazon Data into Spark DataFrame"
      ]
    },
    {
      "cell_type": "code",
      "metadata": {
        "id": "CtCmBhQJY-9Z",
        "colab": {
          "base_uri": "https://localhost:8080/"
        },
        "outputId": "bc687049-e29b-4bf1-b135-92bd96f7c6eb"
      },
      "source": [
        "from pyspark import SparkFiles\n",
        "url = \"https://s3.amazonaws.com/amazon-reviews-pds/tsv/amazon_reviews_us_Luggage_v1_00.tsv.gz\"\n",
        "spark.sparkContext.addFile(url)\n",
        "df = spark.read.option(\"encoding\", \"UTF-8\").csv(SparkFiles.get(\"amazon_reviews_us_Luggage_v1_00.tsv.gz\"), sep=\"\\t\", header=True, inferSchema=True)\n",
        "df.show()"
      ],
      "execution_count": 4,
      "outputs": [
        {
          "output_type": "stream",
          "name": "stdout",
          "text": [
            "+-----------+-----------+--------------+----------+--------------+--------------------+----------------+-----------+-------------+-----------+----+-----------------+--------------------+--------------------+-----------+\n",
            "|marketplace|customer_id|     review_id|product_id|product_parent|       product_title|product_category|star_rating|helpful_votes|total_votes|vine|verified_purchase|     review_headline|         review_body|review_date|\n",
            "+-----------+-----------+--------------+----------+--------------+--------------------+----------------+-----------+-------------+-----------+----+-----------------+--------------------+--------------------+-----------+\n",
            "|         US|   40884699| R9CO86UUJCAW5|B00VGTN02Y|     786681372|Teenage Mutant Ni...|         Luggage|          3|            0|          0|   N|                Y|my review of this...|my review of this...| 2015-08-31|\n",
            "|         US|   23208852|R3PR8X6QGVJ8B1|B005KIWL0E|     618251799|Kenneth Cole Reac...|         Luggage|          5|            0|          0|   N|                Y|          Five Stars|       Perfect size.| 2015-08-31|\n",
            "|         US|   17100246|R39BO2819ABUPF|B007UNSHJ6|     810480328|American Touriste...|         Luggage|          4|            0|          0|   N|                Y|            so good.|    So far, so good.| 2015-08-31|\n",
            "|         US|   13533670|R3ADL7V6EGGEEP|B00WHFNXB4|      20765193|15.5 Inch Purple ...|         Luggage|          4|            0|          0|   N|                Y|          Four Stars|seems nicely made...| 2015-08-31|\n",
            "|         US|   38541771|R1OXYPBPLVRMI5|B000M5NBYU|     812890709|Port & Company Zi...|         Luggage|          5|            0|          0|   N|                Y|           Dance Bag|Great bag for all...| 2015-08-31|\n",
            "|         US|   12686499|R1WYM8Z5ATQ98O|B00ACBJ89G|     624906499|J World New York ...|         Luggage|          3|            0|          0|   N|                Y|        TOO SMALL!!!|it´s nice BUT it´...| 2015-08-31|\n",
            "|         US|   27767206|R3LCIANTN1H9EC|B001H4BQ1A|     385044506|Voltage Valet Clo...|         Luggage|          4|            1|          1|   N|                Y|          Four Stars|It does the job b...| 2015-08-31|\n",
            "|         US|   46630606|R3U2M23N1P0KQ6|B00ESG6NDK|      51297652|Pro Packing Cubes...|         Luggage|          5|            0|          0|   N|                Y|          Five Stars|          Just fine.| 2015-08-31|\n",
            "|         US|   41622754|R29MB6N7HB6NZI|B00M14SAXC|     832113872|Girl's Dance Duff...|         Luggage|          1|            2|          2|   N|                Y|We were exited to...|We were exited to...| 2015-08-31|\n",
            "|         US|   15296380| RGEQ6DGRG7DQG|B012PC5QAY|     490793867|Disney Inside Out...|         Luggage|          5|            0|          0|   N|                Y|               cute!|Very nice and we'...| 2015-08-31|\n",
            "|         US|   21206415|R38HNH0BSS2KFE|B00VWKWWMG|     356411837|World Traveler 13...|         Luggage|          1|            1|          1|   N|                Y|            One Star|Brought it on vac...| 2015-08-31|\n",
            "|         US|   34554097|R2CATRM9CH59LY|B00N2U14UK|     326835930|Sherpani Trevia C...|         Luggage|          5|            4|          4|   N|                Y|A great bag for t...|I purchased this ...| 2015-08-31|\n",
            "|         US|   42252567|R18DMKNDPJ1BSN|B00K4F45CA|     954517686|Rockland Luggage ...|         Luggage|          5|            0|          1|   N|                Y|             Perfect|Love this light w...| 2015-08-31|\n",
            "|         US|    3532342| RZRSHBWXO3XUQ|B00U57FFA8|      98867907|Allant 16\" Padded...|         Luggage|          5|            0|          0|   N|                Y|it's durable and ...|Purchased this ba...| 2015-08-31|\n",
            "|         US|    7791634|R1BMTNSYCZY1NI|B00ROSRFQ8|     648371973|Polare Manly Real...|         Luggage|          3|            1|          1|   N|                Y|Strong well-made ...|I've had this bag...| 2015-08-31|\n",
            "|         US|    9911099| RPE2S0HZQ9EFP|B003ZV71BM|     406795103|American Flyer Lu...|         Luggage|          5|            0|          0|   N|                Y|          Five Stars|Love love love my...| 2015-08-31|\n",
            "|         US|   46124918|R2OOWJSFPDDA03|B00NJYB2JM|     255715129|Victoriatourist V...|         Luggage|          3|            0|          1|   N|                Y|         Three Stars|Smaller than expe...| 2015-08-31|\n",
            "|         US|     200537|R3EED64ZPXGZ92|B00LD0A4N4|     244117760|EcoCity Vintage C...|         Luggage|          3|            0|          0|   N|                Y|         Three Stars|Within the first ...| 2015-08-31|\n",
            "|         US|    1403856|R1BI8NF6YRH5HD|B00N5GVF6O|     626808161|Bolang Water Resi...|         Luggage|          5|            0|          0|   N|                Y|     Laptop backpack|Nice nice sturdy ...| 2015-08-31|\n",
            "|         US|    8201781| RUD7SDRQTAVMC|B00C75KZPQ|     176437087|Travelon Cosmetic...|         Luggage|          5|            0|          0|   N|                Y|           Fabulous!|Fabulous! Can use...| 2015-08-31|\n",
            "+-----------+-----------+--------------+----------+--------------+--------------------+----------------+-----------+-------------+-----------+----+-----------------+--------------------+--------------------+-----------+\n",
            "only showing top 20 rows\n",
            "\n"
          ]
        }
      ]
    },
    {
      "cell_type": "markdown",
      "metadata": {
        "id": "2yUSe55VY-9t"
      },
      "source": [
        "### Create DataFrames to match tables"
      ]
    },
    {
      "cell_type": "code",
      "metadata": {
        "id": "C8REmY1aY-9u"
      },
      "source": [
        "from pyspark.sql.functions import to_date\n",
        "# Read in the Review dataset as a DataFrame"
      ],
      "execution_count": 5,
      "outputs": []
    },
    {
      "cell_type": "code",
      "metadata": {
        "id": "B0TESUDRY-90",
        "colab": {
          "base_uri": "https://localhost:8080/"
        },
        "outputId": "b899d77c-81b5-4986-cf08-cc03a8ab5d44"
      },
      "source": [
        "# Create the customers_table DataFrame\n",
        "customers_df = df.groupby(\"customer_id\").agg({\"customer_id\":\"count\"}).withColumnRenamed(\"count(customer_id)\", \"customer_count\")\n",
        "customers_df.show()"
      ],
      "execution_count": 7,
      "outputs": [
        {
          "output_type": "stream",
          "name": "stdout",
          "text": [
            "+-----------+--------------+\n",
            "|customer_id|customer_count|\n",
            "+-----------+--------------+\n",
            "|   42596797|             1|\n",
            "|   12296525|             1|\n",
            "|   49101505|             1|\n",
            "|   28377689|             1|\n",
            "|   14468845|             1|\n",
            "|   26079415|             1|\n",
            "|   12945150|             1|\n",
            "|   42049189|             1|\n",
            "|     740134|             1|\n",
            "|   15123832|             1|\n",
            "|   43742600|             2|\n",
            "|     134205|             2|\n",
            "|     255890|             1|\n",
            "|   52748596|             2|\n",
            "|   30070208|             1|\n",
            "|   20994440|             1|\n",
            "|   45330946|             1|\n",
            "|   18061621|             1|\n",
            "|    1051742|             1|\n",
            "|   38273165|             1|\n",
            "+-----------+--------------+\n",
            "only showing top 20 rows\n",
            "\n"
          ]
        }
      ]
    },
    {
      "cell_type": "code",
      "metadata": {
        "id": "4FwXA6UvY-96",
        "colab": {
          "base_uri": "https://localhost:8080/"
        },
        "outputId": "26375ff6-7d14-4766-95de-7e747b7a0bc1"
      },
      "source": [
        "# Create the products_table DataFrame and drop duplicates. \n",
        "products_df = df.select([\"product_id\", \"product_title\"]).drop_duplicates()\n",
        "products_df.show()"
      ],
      "execution_count": 8,
      "outputs": [
        {
          "output_type": "stream",
          "name": "stdout",
          "text": [
            "+----------+--------------------+\n",
            "|product_id|       product_title|\n",
            "+----------+--------------------+\n",
            "|B005GUQCGK|Everest Gym Bag w...|\n",
            "|B00M6O0WQK|Sprayground Unise...|\n",
            "|B00UFFW5XK|Polare Italian Le...|\n",
            "|B00J8O730E|Nicole Lee Shoppi...|\n",
            "|B0028Y67PI|David King & Co. ...|\n",
            "|B00DHCUWD8|PealRa Banana Lea...|\n",
            "|B00O9QORAK|Luxebell Luggage ...|\n",
            "|B0125Q648I|Shacke 2 x Metal ...|\n",
            "|B004URKJY6|Small Orange Sol ...|\n",
            "|B004R6B5MU|New Maxam 16 Inch...|\n",
            "|B00FB4X9TY|Rockland Luggage ...|\n",
            "|B00IDSDI1E|Kobwa(TM) Yellow ...|\n",
            "|B00AE0NW5Q|Pacsafe Venturesa...|\n",
            "|B00YNP622S|Great White Shark...|\n",
            "|B00QF5Q7KG|Lewis N Clark Bal...|\n",
            "|B0109ZA54Q|Passport Holder- ...|\n",
            "|B00KYFPMWC|ECOSUSI Vintage C...|\n",
            "|B005H4D4TI|CalPak Hollywood ...|\n",
            "|B0053GFAJC|ShedRain Umbrella...|\n",
            "|B00PY00AWY|Unisex Casual Gen...|\n",
            "+----------+--------------------+\n",
            "only showing top 20 rows\n",
            "\n"
          ]
        }
      ]
    },
    {
      "cell_type": "code",
      "metadata": {
        "id": "MkqyCuNQY-9-",
        "colab": {
          "base_uri": "https://localhost:8080/"
        },
        "outputId": "9b73b57b-a3ae-45ac-d3b0-a228eb437bc7"
      },
      "source": [
        "# Create the review_id_table DataFrame. \n",
        "# Convert the 'review_date' column to a date datatype with to_date(\"review_date\", 'yyyy-MM-dd').alias(\"review_date\")\n",
        "review_id_df = df.select([\"review_id\",\"customer_id\",\"product_id\",\"product_parent\", to_date(\"review_date\", 'yyyy-MM-dd').alias(\"review_date\")])\n",
        "review_id_df.show()"
      ],
      "execution_count": 9,
      "outputs": [
        {
          "output_type": "stream",
          "name": "stdout",
          "text": [
            "+--------------+-----------+----------+--------------+-----------+\n",
            "|     review_id|customer_id|product_id|product_parent|review_date|\n",
            "+--------------+-----------+----------+--------------+-----------+\n",
            "| R9CO86UUJCAW5|   40884699|B00VGTN02Y|     786681372| 2015-08-31|\n",
            "|R3PR8X6QGVJ8B1|   23208852|B005KIWL0E|     618251799| 2015-08-31|\n",
            "|R39BO2819ABUPF|   17100246|B007UNSHJ6|     810480328| 2015-08-31|\n",
            "|R3ADL7V6EGGEEP|   13533670|B00WHFNXB4|      20765193| 2015-08-31|\n",
            "|R1OXYPBPLVRMI5|   38541771|B000M5NBYU|     812890709| 2015-08-31|\n",
            "|R1WYM8Z5ATQ98O|   12686499|B00ACBJ89G|     624906499| 2015-08-31|\n",
            "|R3LCIANTN1H9EC|   27767206|B001H4BQ1A|     385044506| 2015-08-31|\n",
            "|R3U2M23N1P0KQ6|   46630606|B00ESG6NDK|      51297652| 2015-08-31|\n",
            "|R29MB6N7HB6NZI|   41622754|B00M14SAXC|     832113872| 2015-08-31|\n",
            "| RGEQ6DGRG7DQG|   15296380|B012PC5QAY|     490793867| 2015-08-31|\n",
            "|R38HNH0BSS2KFE|   21206415|B00VWKWWMG|     356411837| 2015-08-31|\n",
            "|R2CATRM9CH59LY|   34554097|B00N2U14UK|     326835930| 2015-08-31|\n",
            "|R18DMKNDPJ1BSN|   42252567|B00K4F45CA|     954517686| 2015-08-31|\n",
            "| RZRSHBWXO3XUQ|    3532342|B00U57FFA8|      98867907| 2015-08-31|\n",
            "|R1BMTNSYCZY1NI|    7791634|B00ROSRFQ8|     648371973| 2015-08-31|\n",
            "| RPE2S0HZQ9EFP|    9911099|B003ZV71BM|     406795103| 2015-08-31|\n",
            "|R2OOWJSFPDDA03|   46124918|B00NJYB2JM|     255715129| 2015-08-31|\n",
            "|R3EED64ZPXGZ92|     200537|B00LD0A4N4|     244117760| 2015-08-31|\n",
            "|R1BI8NF6YRH5HD|    1403856|B00N5GVF6O|     626808161| 2015-08-31|\n",
            "| RUD7SDRQTAVMC|    8201781|B00C75KZPQ|     176437087| 2015-08-31|\n",
            "+--------------+-----------+----------+--------------+-----------+\n",
            "only showing top 20 rows\n",
            "\n"
          ]
        }
      ]
    },
    {
      "cell_type": "code",
      "metadata": {
        "id": "lzMmkdKmY--D",
        "colab": {
          "base_uri": "https://localhost:8080/"
        },
        "outputId": "fe427dbc-ba25-480e-d1ee-2960bb14979e"
      },
      "source": [
        "# Create the vine_table. DataFrame\n",
        "vine_df = df.select([\"review_id\",\"star_rating\",\"helpful_votes\",\"total_votes\",\"vine\",\"verified_purchase\"])\n",
        "vine_df.show()"
      ],
      "execution_count": 10,
      "outputs": [
        {
          "output_type": "stream",
          "name": "stdout",
          "text": [
            "+--------------+-----------+-------------+-----------+----+-----------------+\n",
            "|     review_id|star_rating|helpful_votes|total_votes|vine|verified_purchase|\n",
            "+--------------+-----------+-------------+-----------+----+-----------------+\n",
            "| R9CO86UUJCAW5|          3|            0|          0|   N|                Y|\n",
            "|R3PR8X6QGVJ8B1|          5|            0|          0|   N|                Y|\n",
            "|R39BO2819ABUPF|          4|            0|          0|   N|                Y|\n",
            "|R3ADL7V6EGGEEP|          4|            0|          0|   N|                Y|\n",
            "|R1OXYPBPLVRMI5|          5|            0|          0|   N|                Y|\n",
            "|R1WYM8Z5ATQ98O|          3|            0|          0|   N|                Y|\n",
            "|R3LCIANTN1H9EC|          4|            1|          1|   N|                Y|\n",
            "|R3U2M23N1P0KQ6|          5|            0|          0|   N|                Y|\n",
            "|R29MB6N7HB6NZI|          1|            2|          2|   N|                Y|\n",
            "| RGEQ6DGRG7DQG|          5|            0|          0|   N|                Y|\n",
            "|R38HNH0BSS2KFE|          1|            1|          1|   N|                Y|\n",
            "|R2CATRM9CH59LY|          5|            4|          4|   N|                Y|\n",
            "|R18DMKNDPJ1BSN|          5|            0|          1|   N|                Y|\n",
            "| RZRSHBWXO3XUQ|          5|            0|          0|   N|                Y|\n",
            "|R1BMTNSYCZY1NI|          3|            1|          1|   N|                Y|\n",
            "| RPE2S0HZQ9EFP|          5|            0|          0|   N|                Y|\n",
            "|R2OOWJSFPDDA03|          3|            0|          1|   N|                Y|\n",
            "|R3EED64ZPXGZ92|          3|            0|          0|   N|                Y|\n",
            "|R1BI8NF6YRH5HD|          5|            0|          0|   N|                Y|\n",
            "| RUD7SDRQTAVMC|          5|            0|          0|   N|                Y|\n",
            "+--------------+-----------+-------------+-----------+----+-----------------+\n",
            "only showing top 20 rows\n",
            "\n"
          ]
        }
      ]
    },
    {
      "cell_type": "markdown",
      "metadata": {
        "id": "jITZhLkmY--J"
      },
      "source": [
        "### Connect to the AWS RDS instance and write each DataFrame to its table. "
      ]
    },
    {
      "cell_type": "code",
      "metadata": {
        "id": "7jiUvs1aY--L",
        "colab": {
          "base_uri": "https://localhost:8080/"
        },
        "outputId": "b00aac77-f215-46a4-93a2-9b3bb4b84cd5"
      },
      "source": [
        "# Store environmental variable\n",
        "from getpass import getpass\n",
        "password = getpass('Enter database password')\n",
        "# Configure settings for RDS\n",
        "mode = \"append\"\n",
        "jdbc_url=\"jdbc:postgresql://reviewsdb.ctbpe3aa0mqt.us-east-1.rds.amazonaws.com:5432/reviews_database\"\n",
        "config = {\"user\":\"postgres\", \n",
        "          \"password\": password, \n",
        "          \"driver\":\"org.postgresql.Driver\"}"
      ],
      "execution_count": 11,
      "outputs": [
        {
          "name": "stdout",
          "output_type": "stream",
          "text": [
            "Enter database password··········\n"
          ]
        }
      ]
    },
    {
      "cell_type": "code",
      "metadata": {
        "id": "T2zgZ-aKY--Q"
      },
      "source": [
        "# Write review_id_df to table in RDS\n",
        "review_id_df.write.jdbc(url=jdbc_url, table='review_id_table', mode=mode, properties=config)"
      ],
      "execution_count": 12,
      "outputs": []
    },
    {
      "cell_type": "code",
      "metadata": {
        "id": "1m3yzn-LY--U"
      },
      "source": [
        "# Write products_df to table in RDS\n",
        "# about 3 min\n",
        "products_df.write.jdbc(url=jdbc_url, table='products_table', mode=mode, properties=config)"
      ],
      "execution_count": null,
      "outputs": []
    },
    {
      "cell_type": "code",
      "metadata": {
        "id": "KbXri15fY--Z"
      },
      "source": [
        "# Write customers_df to table in RDS\n",
        "# 5 min 14 s\n",
        "customers_df.write.jdbc(url=jdbc_url, table='customers_table', mode=mode, properties=config)"
      ],
      "execution_count": 14,
      "outputs": []
    },
    {
      "cell_type": "code",
      "metadata": {
        "id": "XdQknSHLY--e"
      },
      "source": [
        "# Write vine_df to table in RDS\n",
        "# 11 minutes\n",
        "vine_df.write.jdbc(url=jdbc_url, table='vine_table', mode=mode, properties=config)"
      ],
      "execution_count": 15,
      "outputs": []
    }
  ]
}